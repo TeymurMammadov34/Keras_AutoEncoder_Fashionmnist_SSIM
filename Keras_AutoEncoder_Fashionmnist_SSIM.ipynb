{
 "cells": [
  {
   "cell_type": "markdown",
   "id": "6598acaa-9150-4b80-8d42-31e98a3c2239",
   "metadata": {},
   "source": [
    "# ✅ Gerekli kütüphaneleri içe aktarıyoruz"
   ]
  },
  {
   "cell_type": "code",
   "execution_count": 3,
   "id": "0ee8f597-9a04-45b1-be03-7f685a3a260c",
   "metadata": {},
   "outputs": [],
   "source": [
    "import numpy as np  # Sayısal işlemler için temel kütüphane\n",
    "\n",
    "# TensorFlow ve Keras kütüphanelerinden modeller, katmanlar ve optimizer'ları yüklüyoruz\n",
    "from tensorflow.keras.datasets import fashion_mnist  # Fashion MNIST veri seti\n",
    "from tensorflow.keras.models import Model  # Keras'ta model oluşturmak için temel sınıf\n",
    "from tensorflow.keras.layers import Dense, Input  # Katmanlar (Dense = tam bağlantılı, Input = giriş)\n",
    "from tensorflow.keras.optimizers import Adam  # Optimizasyon algoritması olarak Adam kullanıyoruz\n",
    "\n",
    "# Yapısal benzerlik (SSIM) hesaplamak için skimage kütüphanesinden metrik fonksiyonu yüklüyoruz\n",
    "# Not: Gerekirse \"!pip install scikit-image\" komutu ile yüklenebilir\n",
    "from skimage.metrics import structural_similarity as ssim  # Görsel kalite ölçümü için SSIM metriği\n",
    "\n",
    "# Görüntüleri göstermek için matplotlib kullanıyoruz\n",
    "import matplotlib.pyplot as plt\n",
    "\n",
    "\n",
    "# Uyarıları atlatmak için warnings kütüphanesi\n",
    "import warnings\n",
    "warnings.filterwarnings(\"ignore\")  # Konsolda gereksiz uyarı mesajlarını engeller"
   ]
  },
  {
   "cell_type": "markdown",
   "id": "98ea590e-6047-4eff-b1e9-9ef19be21325",
   "metadata": {},
   "source": [
    "# 📥 Veri Setini Yükleme ve Ön İşleme"
   ]
  },
  {
   "cell_type": "code",
   "execution_count": 4,
   "id": "f711e740-6f20-442d-ad35-d985bf799c43",
   "metadata": {},
   "outputs": [
    {
     "data": {
      "image/png": "[encoded data removed]",
      "text/plain": [
       "<Figure size 1700x700 with 5 Axes>"
      ]
     },
     "metadata": {},
     "output_type": "display_data"
    }
   ],
   "source": [
    "# Fashion MNIST veri setini yüklüyoruz (etiketler kullanılmayacağı için '_' ile atlanıyor)\n",
    "(X_train, _), (X_test, _) = fashion_mnist.load_data()\n",
    "\n",
    "# Görüntü verilerini float32 formatına çevirip 0-1 arasına normalize ediyoruz\n",
    "X_train = X_train.astype(\"float32\") / 255.0  # Eğitim verisi normalizasyonu\n",
    "X_test = X_test.astype(\"float32\") / 255.0    # Test verisi normalizasyonu\n",
    "\n",
    "# Eğitim verisinden 5 örnek görüntü gösteriyoruz (gri tonlamalı)\n",
    "plt.figure(figsize = (17,7))\n",
    "for i in range(5):\n",
    "    plt.subplot(1, 5, i + 1)  # 1 satır, 5 sütunluk gridde görselleri yerleştiriyoruz\n",
    "    plt.imshow(X_train[i], cmap = \"gray\")  # Görselleri gri tonlamalı olarak gösteriyoruz\n",
    "    plt.axis(\"off\")  # Eksen çizgilerini kaldırıyoruz\n",
    "plt.show()  # Görselleri gösteriyoruz\n",
    "\n",
    "# Model girişi için görüntüleri 28x28 = 784 boyutunda düz vektör haline getiriyoruz\n",
    "X_train = X_train.reshape(-1, 28 * 28)  # Eğitim verisini 2D tensordan 1D vektöre dönüştür\n",
    "X_test = X_test.reshape(-1, 28 * 28)    # Test verisi için de aynı işlem"
   ]
  },
  {
   "cell_type": "markdown",
   "id": "b8dc91d7-448d-4dbc-9c60-52aba7460c24",
   "metadata": {},
   "source": [
    "# 🧠 Autoencoder Mimarisi ve Model Eğitimi"
   ]
  },
  {
   "cell_type": "code",
   "execution_count": 5,
   "id": "6cd1df05-7e01-46fa-a455-0bbff28703a7",
   "metadata": {},
   "outputs": [
    {
     "name": "stdout",
     "output_type": "stream",
     "text": [
      "Epoch 1/50\n",
      "\u001b[1m938/938\u001b[0m \u001b[32m━━━━━━━━━━━━━━━━━━━━\u001b[0m\u001b[37m\u001b[0m \u001b[1m24s\u001b[0m 20ms/step - loss: 0.3638 - val_loss: 0.2966\n",
      "Epoch 2/50\n",
      "\u001b[1m938/938\u001b[0m \u001b[32m━━━━━━━━━━━━━━━━━━━━\u001b[0m\u001b[37m\u001b[0m \u001b[1m19s\u001b[0m 20ms/step - loss: 0.2928 - val_loss: 0.2885\n",
      "Epoch 3/50\n",
      "\u001b[1m938/938\u001b[0m \u001b[32m━━━━━━━━━━━━━━━━━━━━\u001b[0m\u001b[37m\u001b[0m \u001b[1m17s\u001b[0m 18ms/step - loss: 0.2854 - val_loss: 0.2838\n",
      "Epoch 4/50\n",
      "\u001b[1m938/938\u001b[0m \u001b[32m━━━━━━━━━━━━━━━━━━━━\u001b[0m\u001b[37m\u001b[0m \u001b[1m18s\u001b[0m 19ms/step - loss: 0.2806 - val_loss: 0.2809\n",
      "Epoch 5/50\n",
      "\u001b[1m938/938\u001b[0m \u001b[32m━━━━━━━━━━━━━━━━━━━━\u001b[0m\u001b[37m\u001b[0m \u001b[1m19s\u001b[0m 20ms/step - loss: 0.2778 - val_loss: 0.2803\n",
      "Epoch 6/50\n",
      "\u001b[1m938/938\u001b[0m \u001b[32m━━━━━━━━━━━━━━━━━━━━\u001b[0m\u001b[37m\u001b[0m \u001b[1m22s\u001b[0m 21ms/step - loss: 0.2757 - val_loss: 0.2773\n",
      "Epoch 7/50\n",
      "\u001b[1m938/938\u001b[0m \u001b[32m━━━━━━━━━━━━━━━━━━━━\u001b[0m\u001b[37m\u001b[0m \u001b[1m22s\u001b[0m 23ms/step - loss: 0.2749 - val_loss: 0.2770\n",
      "Epoch 8/50\n",
      "\u001b[1m938/938\u001b[0m \u001b[32m━━━━━━━━━━━━━━━━━━━━\u001b[0m\u001b[37m\u001b[0m \u001b[1m18s\u001b[0m 19ms/step - loss: 0.2729 - val_loss: 0.2749\n",
      "Epoch 9/50\n",
      "\u001b[1m938/938\u001b[0m \u001b[32m━━━━━━━━━━━━━━━━━━━━\u001b[0m\u001b[37m\u001b[0m \u001b[1m19s\u001b[0m 18ms/step - loss: 0.2718 - val_loss: 0.2743\n",
      "Epoch 10/50\n",
      "\u001b[1m938/938\u001b[0m \u001b[32m━━━━━━━━━━━━━━━━━━━━\u001b[0m\u001b[37m\u001b[0m \u001b[1m17s\u001b[0m 18ms/step - loss: 0.2715 - val_loss: 0.2738\n",
      "Epoch 11/50\n",
      "\u001b[1m938/938\u001b[0m \u001b[32m━━━━━━━━━━━━━━━━━━━━\u001b[0m\u001b[37m\u001b[0m \u001b[1m17s\u001b[0m 18ms/step - loss: 0.2705 - val_loss: 0.2727\n",
      "Epoch 12/50\n",
      "\u001b[1m938/938\u001b[0m \u001b[32m━━━━━━━━━━━━━━━━━━━━\u001b[0m\u001b[37m\u001b[0m \u001b[1m17s\u001b[0m 18ms/step - loss: 0.2700 - val_loss: 0.2724\n",
      "Epoch 13/50\n",
      "\u001b[1m938/938\u001b[0m \u001b[32m━━━━━━━━━━━━━━━━━━━━\u001b[0m\u001b[37m\u001b[0m \u001b[1m17s\u001b[0m 18ms/step - loss: 0.2693 - val_loss: 0.2729\n",
      "Epoch 14/50\n",
      "\u001b[1m938/938\u001b[0m \u001b[32m━━━━━━━━━━━━━━━━━━━━\u001b[0m\u001b[37m\u001b[0m \u001b[1m20s\u001b[0m 21ms/step - loss: 0.2690 - val_loss: 0.2715\n",
      "Epoch 15/50\n",
      "\u001b[1m938/938\u001b[0m \u001b[32m━━━━━━━━━━━━━━━━━━━━\u001b[0m\u001b[37m\u001b[0m \u001b[1m25s\u001b[0m 25ms/step - loss: 0.2684 - val_loss: 0.2713\n",
      "Epoch 16/50\n",
      "\u001b[1m938/938\u001b[0m \u001b[32m━━━━━━━━━━━━━━━━━━━━\u001b[0m\u001b[37m\u001b[0m \u001b[1m35s\u001b[0m 19ms/step - loss: 0.2691 - val_loss: 0.2716\n",
      "Epoch 17/50\n",
      "\u001b[1m938/938\u001b[0m \u001b[32m━━━━━━━━━━━━━━━━━━━━\u001b[0m\u001b[37m\u001b[0m \u001b[1m17s\u001b[0m 18ms/step - loss: 0.2675 - val_loss: 0.2715\n",
      "Epoch 18/50\n",
      "\u001b[1m938/938\u001b[0m \u001b[32m━━━━━━━━━━━━━━━━━━━━\u001b[0m\u001b[37m\u001b[0m \u001b[1m17s\u001b[0m 18ms/step - loss: 0.2679 - val_loss: 0.2706\n",
      "Epoch 19/50\n",
      "\u001b[1m938/938\u001b[0m \u001b[32m━━━━━━━━━━━━━━━━━━━━\u001b[0m\u001b[37m\u001b[0m \u001b[1m19s\u001b[0m 20ms/step - loss: 0.2676 - val_loss: 0.2699\n",
      "Epoch 20/50\n",
      "\u001b[1m938/938\u001b[0m \u001b[32m━━━━━━━━━━━━━━━━━━━━\u001b[0m\u001b[37m\u001b[0m \u001b[1m18s\u001b[0m 19ms/step - loss: 0.2678 - val_loss: 0.2702\n",
      "Epoch 21/50\n",
      "\u001b[1m938/938\u001b[0m \u001b[32m━━━━━━━━━━━━━━━━━━━━\u001b[0m\u001b[37m\u001b[0m \u001b[1m20s\u001b[0m 21ms/step - loss: 0.2665 - val_loss: 0.2700\n",
      "Epoch 22/50\n",
      "\u001b[1m938/938\u001b[0m \u001b[32m━━━━━━━━━━━━━━━━━━━━\u001b[0m\u001b[37m\u001b[0m \u001b[1m18s\u001b[0m 19ms/step - loss: 0.2668 - val_loss: 0.2694\n",
      "Epoch 23/50\n",
      "\u001b[1m938/938\u001b[0m \u001b[32m━━━━━━━━━━━━━━━━━━━━\u001b[0m\u001b[37m\u001b[0m \u001b[1m19s\u001b[0m 20ms/step - loss: 0.2660 - val_loss: 0.2694\n",
      "Epoch 24/50\n",
      "\u001b[1m938/938\u001b[0m \u001b[32m━━━━━━━━━━━━━━━━━━━━\u001b[0m\u001b[37m\u001b[0m \u001b[1m19s\u001b[0m 19ms/step - loss: 0.2664 - val_loss: 0.2690\n",
      "Epoch 25/50\n",
      "\u001b[1m938/938\u001b[0m \u001b[32m━━━━━━━━━━━━━━━━━━━━\u001b[0m\u001b[37m\u001b[0m \u001b[1m20s\u001b[0m 21ms/step - loss: 0.2658 - val_loss: 0.2687\n",
      "Epoch 26/50\n",
      "\u001b[1m938/938\u001b[0m \u001b[32m━━━━━━━━━━━━━━━━━━━━\u001b[0m\u001b[37m\u001b[0m \u001b[1m22s\u001b[0m 22ms/step - loss: 0.2653 - val_loss: 0.2690\n",
      "Epoch 27/50\n",
      "\u001b[1m938/938\u001b[0m \u001b[32m━━━━━━━━━━━━━━━━━━━━\u001b[0m\u001b[37m\u001b[0m \u001b[1m18s\u001b[0m 19ms/step - loss: 0.2652 - val_loss: 0.2686\n",
      "Epoch 28/50\n",
      "\u001b[1m938/938\u001b[0m \u001b[32m━━━━━━━━━━━━━━━━━━━━\u001b[0m\u001b[37m\u001b[0m \u001b[1m20s\u001b[0m 21ms/step - loss: 0.2650 - val_loss: 0.2683\n",
      "Epoch 29/50\n",
      "\u001b[1m938/938\u001b[0m \u001b[32m━━━━━━━━━━━━━━━━━━━━\u001b[0m\u001b[37m\u001b[0m \u001b[1m17s\u001b[0m 19ms/step - loss: 0.2647 - val_loss: 0.2693\n",
      "Epoch 30/50\n",
      "\u001b[1m938/938\u001b[0m \u001b[32m━━━━━━━━━━━━━━━━━━━━\u001b[0m\u001b[37m\u001b[0m \u001b[1m19s\u001b[0m 20ms/step - loss: 0.2655 - val_loss: 0.2682\n",
      "Epoch 31/50\n",
      "\u001b[1m938/938\u001b[0m \u001b[32m━━━━━━━━━━━━━━━━━━━━\u001b[0m\u001b[37m\u001b[0m \u001b[1m25s\u001b[0m 25ms/step - loss: 0.2648 - val_loss: 0.2684\n",
      "Epoch 32/50\n",
      "\u001b[1m938/938\u001b[0m \u001b[32m━━━━━━━━━━━━━━━━━━━━\u001b[0m\u001b[37m\u001b[0m \u001b[1m20s\u001b[0m 21ms/step - loss: 0.2653 - val_loss: 0.2680\n",
      "Epoch 33/50\n",
      "\u001b[1m938/938\u001b[0m \u001b[32m━━━━━━━━━━━━━━━━━━━━\u001b[0m\u001b[37m\u001b[0m \u001b[1m19s\u001b[0m 20ms/step - loss: 0.2647 - val_loss: 0.2682\n",
      "Epoch 34/50\n",
      "\u001b[1m938/938\u001b[0m \u001b[32m━━━━━━━━━━━━━━━━━━━━\u001b[0m\u001b[37m\u001b[0m \u001b[1m19s\u001b[0m 20ms/step - loss: 0.2642 - val_loss: 0.2681\n",
      "Epoch 35/50\n",
      "\u001b[1m938/938\u001b[0m \u001b[32m━━━━━━━━━━━━━━━━━━━━\u001b[0m\u001b[37m\u001b[0m \u001b[1m20s\u001b[0m 21ms/step - loss: 0.2646 - val_loss: 0.2676\n",
      "Epoch 36/50\n",
      "\u001b[1m938/938\u001b[0m \u001b[32m━━━━━━━━━━━━━━━━━━━━\u001b[0m\u001b[37m\u001b[0m \u001b[1m19s\u001b[0m 20ms/step - loss: 0.2644 - val_loss: 0.2673\n",
      "Epoch 37/50\n",
      "\u001b[1m938/938\u001b[0m \u001b[32m━━━━━━━━━━━━━━━━━━━━\u001b[0m\u001b[37m\u001b[0m \u001b[1m19s\u001b[0m 20ms/step - loss: 0.2644 - val_loss: 0.2671\n",
      "Epoch 38/50\n",
      "\u001b[1m938/938\u001b[0m \u001b[32m━━━━━━━━━━━━━━━━━━━━\u001b[0m\u001b[37m\u001b[0m \u001b[1m21s\u001b[0m 20ms/step - loss: 0.2641 - val_loss: 0.2673\n",
      "Epoch 39/50\n",
      "\u001b[1m938/938\u001b[0m \u001b[32m━━━━━━━━━━━━━━━━━━━━\u001b[0m\u001b[37m\u001b[0m \u001b[1m19s\u001b[0m 21ms/step - loss: 0.2637 - val_loss: 0.2673\n",
      "Epoch 40/50\n",
      "\u001b[1m938/938\u001b[0m \u001b[32m━━━━━━━━━━━━━━━━━━━━\u001b[0m\u001b[37m\u001b[0m \u001b[1m19s\u001b[0m 20ms/step - loss: 0.2640 - val_loss: 0.2676\n",
      "Epoch 41/50\n",
      "\u001b[1m938/938\u001b[0m \u001b[32m━━━━━━━━━━━━━━━━━━━━\u001b[0m\u001b[37m\u001b[0m \u001b[1m19s\u001b[0m 21ms/step - loss: 0.2632 - val_loss: 0.2674\n",
      "Epoch 42/50\n",
      "\u001b[1m938/938\u001b[0m \u001b[32m━━━━━━━━━━━━━━━━━━━━\u001b[0m\u001b[37m\u001b[0m \u001b[1m21s\u001b[0m 23ms/step - loss: 0.2645 - val_loss: 0.2671\n",
      "Epoch 43/50\n",
      "\u001b[1m938/938\u001b[0m \u001b[32m━━━━━━━━━━━━━━━━━━━━\u001b[0m\u001b[37m\u001b[0m \u001b[1m19s\u001b[0m 21ms/step - loss: 0.2633 - val_loss: 0.2668\n",
      "Epoch 44/50\n",
      "\u001b[1m938/938\u001b[0m \u001b[32m━━━━━━━━━━━━━━━━━━━━\u001b[0m\u001b[37m\u001b[0m \u001b[1m19s\u001b[0m 20ms/step - loss: 0.2636 - val_loss: 0.2669\n",
      "Epoch 45/50\n",
      "\u001b[1m938/938\u001b[0m \u001b[32m━━━━━━━━━━━━━━━━━━━━\u001b[0m\u001b[37m\u001b[0m \u001b[1m19s\u001b[0m 20ms/step - loss: 0.2633 - val_loss: 0.2665\n",
      "Epoch 46/50\n",
      "\u001b[1m938/938\u001b[0m \u001b[32m━━━━━━━━━━━━━━━━━━━━\u001b[0m\u001b[37m\u001b[0m \u001b[1m18s\u001b[0m 20ms/step - loss: 0.2629 - val_loss: 0.2670\n",
      "Epoch 47/50\n",
      "\u001b[1m938/938\u001b[0m \u001b[32m━━━━━━━━━━━━━━━━━━━━\u001b[0m\u001b[37m\u001b[0m \u001b[1m19s\u001b[0m 20ms/step - loss: 0.2636 - val_loss: 0.2670\n",
      "Epoch 48/50\n",
      "\u001b[1m938/938\u001b[0m \u001b[32m━━━━━━━━━━━━━━━━━━━━\u001b[0m\u001b[37m\u001b[0m \u001b[1m19s\u001b[0m 21ms/step - loss: 0.2633 - val_loss: 0.2672\n",
      "Epoch 49/50\n",
      "\u001b[1m938/938\u001b[0m \u001b[32m━━━━━━━━━━━━━━━━━━━━\u001b[0m\u001b[37m\u001b[0m \u001b[1m19s\u001b[0m 21ms/step - loss: 0.2635 - val_loss: 0.2666\n",
      "Epoch 50/50\n",
      "\u001b[1m938/938\u001b[0m \u001b[32m━━━━━━━━━━━━━━━━━━━━\u001b[0m\u001b[37m\u001b[0m \u001b[1m19s\u001b[0m 21ms/step - loss: 0.2632 - val_loss: 0.2663\n"
     ]
    }
   ],
   "source": [
    "input_dim = X_train.shape[1]  # Girdi boyutu (28x28 = 784)\n",
    "encoding_dim = 64             # Sıkıştırılmış kod boyutu (latent space)\n",
    "\n",
    "# 🏗️ Encoder Katmanı\n",
    "input_image = Input(shape=(input_dim,))                            # Girdi katmanı\n",
    "encoded = Dense(512, activation=\"relu\")(input_image)               # 1. gizli katman\n",
    "encoded = Dense(256, activation=\"relu\")(encoded)                   # 2. gizli katman\n",
    "encoded = Dense(128, activation=\"relu\")(encoded)                   # 3. gizli katman\n",
    "encoded = Dense(encoding_dim, activation=\"relu\")(encoded)          # Kodlama (latent) katmanı\n",
    "\n",
    "# 🛠️ Decoder Katmanı\n",
    "decoded = Dense(128, activation=\"relu\")(encoded)                   # 1. genişletme katmanı\n",
    "decoded = Dense(256, activation=\"relu\")(decoded)                   # 2. genişletme katmanı\n",
    "decoded = Dense(512, activation=\"relu\")(decoded)                   # 3. genişletme katmanı\n",
    "decoded = Dense(input_dim, activation=\"sigmoid\")(decoded)          # Çıktı katmanı (784 boyut)\n",
    "\n",
    "# 🔗 Encoder + Decoder birleştirilerek Autoencoder modeli oluşturuluyor\n",
    "autoencoder = Model(input_image, decoded)\n",
    "\n",
    "# ⚙️ Model derleniyor\n",
    "autoencoder.compile(optimizer=Adam(), loss=\"binary_crossentropy\")\n",
    "\n",
    "# 📈 Model eğitimi başlatılıyor\n",
    "history = autoencoder.fit(\n",
    "    X_train, X_train,\n",
    "    epochs=50,\n",
    "    batch_size=64,\n",
    "    validation_data=(X_test, X_test),\n",
    "    verbose=1\n",
    ")"
   ]
  },
  {
   "cell_type": "markdown",
   "id": "ae92ca2a-5c07-440a-a087-36a320d1cf24",
   "metadata": {},
   "source": [
    "# 🧠 Encoder ve Decoder Modellerinin Tanımlanması"
   ]
  },
  {
   "cell_type": "code",
   "execution_count": 6,
   "id": "1e94ece8-de64-4d24-88a2-f787ff6eee2d",
   "metadata": {},
   "outputs": [
    {
     "name": "stdout",
     "output_type": "stream",
     "text": [
      "\u001b[1m313/313\u001b[0m \u001b[32m━━━━━━━━━━━━━━━━━━━━\u001b[0m\u001b[37m\u001b[0m \u001b[1m1s\u001b[0m 3ms/step\n",
      "\u001b[1m313/313\u001b[0m \u001b[32m━━━━━━━━━━━━━━━━━━━━\u001b[0m\u001b[37m\u001b[0m \u001b[1m1s\u001b[0m 3ms/step   \n"
     ]
    }
   ],
   "source": [
    "# 🔐 Eğitimli encoder modelini oluşturuyoruz\n",
    "# Bu model, orijinal görüntüyü latent (sıkıştırılmış) temsile dönüştürür\n",
    "encoder = Model(input_image, encoded)\n",
    "\n",
    "# 🔓 Latent temsili alacak yeni bir input tanımlıyoruz\n",
    "encoded_input = Input(shape=(encoding_dim,))\n",
    "\n",
    "# Autoencoder'dan eğitimli decoder katmanlarını sırayla çekiyoruz:\n",
    "decoder_layer1 = autoencoder.layers[-4](encoded_input)   # 1. genişletme (128 → 256)\n",
    "decoder_layer2 = autoencoder.layers[-3](decoder_layer1)  # 2. genişletme (256 → 512)\n",
    "decoder_layer3 = autoencoder.layers[-2](decoder_layer2)  # 3. genişletme (512 → tekrar 512)\n",
    "decoder_output = autoencoder.layers[-1](decoder_layer3)  # Çıktı katmanı (512 → 784)\n",
    "\n",
    "# Decoder modelini oluşturuyoruz\n",
    "# Bu model, latent temsilden orijinal boyuttaki görüntüyü üretir\n",
    "decoder = Model(encoded_input, decoder_output)\n",
    "\n",
    "# 🧬 Encoder ile test verisinden latent temsiller elde ediyoruz\n",
    "encoded_images = encoder.predict(X_test)\n",
    "\n",
    "# 🔁 Decoder ile bu latent temsilleri tekrar orijinal görüntü formatına döndürüyoruz\n",
    "decoded_images = decoder.predict(encoded_images)\n"
   ]
  },
  {
   "cell_type": "markdown",
   "id": "92938a7f-8646-42c9-a14b-77fdfb007f5f",
   "metadata": {},
   "source": [
    "# 📊 Görsel Benzerlik Ölçümü: SSIM Skoru Hesaplama"
   ]
  },
  {
   "cell_type": "code",
   "execution_count": 7,
   "id": "3d7ca5c1-a51a-4307-a9fa-85f77e2a6b76",
   "metadata": {},
   "outputs": [
    {
     "name": "stdout",
     "output_type": "stream",
     "text": [
      "0.8216836726724953\n"
     ]
    }
   ],
   "source": [
    "def compute_ssim(original, reconstructed):\n",
    "    \"\"\"\n",
    "    Her iki görüntü arasında SSIM (Structural Similarity Index) skorunu hesaplar.\n",
    "    SSIM skoru 0 ile 1 arasında bir değerdir. 1, iki görüntünün tamamen aynı olduğunu belirtir.\n",
    "    \"\"\"\n",
    "    original = original.reshape(28, 28)           # Görüntüyü 28x28 boyutuna getir\n",
    "    reconstructed = reconstructed.reshape(28, 28) # Yeniden oluşturulmuş görüntüyü de aynı şekilde yeniden şekillendir\n",
    "    return ssim(original, reconstructed, data_range=1)  # SSIM hesaplanırken değer aralığı [0,1]\n",
    "\n",
    "# Tüm örnekler için SSIM skorlarını tutmak için bir liste oluşturuyoruz\n",
    "ssim_score = []\n",
    "\n",
    "# İlk 100 test görüntüsü için SSIM skorlarını hesaplıyoruz\n",
    "for i in range(100):\n",
    "    original_img = X_test[i]                # Gerçek test görüntüsü\n",
    "    reconstructed_img = decoded_images[i]   # Autoencoder tarafından üretilmiş görüntü\n",
    "    score = compute_ssim(original_img, reconstructed_img)  # SSIM skorunu hesaplıyoruz\n",
    "    ssim_score.append(score)                # Listeye ekle\n",
    "\n",
    "# Ortalama SSIM skorunu hesaplıyoruz\n",
    "average_ssim = np.mean(ssim_score)\n",
    "\n",
    "# Sonucu yazdırıyoruz\n",
    "print(average_ssim)"
   ]
  },
  {
   "cell_type": "markdown",
   "id": "c5cff563-d49b-4238-a1ae-36ce1733c1d8",
   "metadata": {},
   "source": [
    "# 🖼️ Görsel Karşılaştırma: Orijinal ve Üretilen Görüntüler"
   ]
  },
  {
   "cell_type": "code",
   "execution_count": 8,
   "id": "0f78c2f2-44c0-40f6-8b59-8eb04b0e61ea",
   "metadata": {},
   "outputs": [
    {
     "data": {
      "image/png": "[encoded data removed]",
      "text/plain": [
       "<Figure size 1500x400 with 20 Axes>"
      ]
     },
     "metadata": {},
     "output_type": "display_data"
    }
   ],
   "source": [
    "import matplotlib.pyplot as plt\n",
    "\n",
    "n = 10  # Görselleştirme için kullanılacak görüntü sayısı\n",
    "\n",
    "# 2 satır (üst: orijinal, alt: üretilen) ve n sütunluk bir görsel alan oluşturuyoruz\n",
    "fig, ax = plt.subplots(2, n, figsize=(15, 4))\n",
    "\n",
    "for i in range(n):\n",
    "    # Üst sıraya orijinal (test verisindeki) görüntüyü yerleştiriyoruz\n",
    "    ax[0, i].imshow(X_test[i].reshape(28, 28), cmap='gray')  # 28x28 boyutunda göster\n",
    "    ax[0, i].axis('off')  # Eksenleri gizle\n",
    "    if i == n // 2:\n",
    "        ax[0, i].set_title('Orijinal Görüntüler')  # Ortadaki resme başlık ekle\n",
    "\n",
    "    # Alt sıraya modelin ürettiği görüntüyü yerleştiriyoruz\n",
    "    ax[1, i].imshow(decoded_images[i].reshape(28, 28), cmap='gray')\n",
    "    ax[1, i].axis('off')\n",
    "    if i == n // 2:\n",
    "        ax[1, i].set_title('Üretilen Görüntüler')  # Ortadaki resme başlık ekle\n",
    "\n",
    "plt.tight_layout()  # Sıkıştırılmış düzen (kenarlara taşmayı engeller)\n",
    "plt.show()  # Görselleri ekrana getir"
   ]
  }
 ],
 "metadata": {
  "kernelspec": {
   "display_name": "Python 3 (ipykernel)",
   "language": "python",
   "name": "python3"
  },
  "language_info": {
   "codemirror_mode": {
    "name": "ipython",
    "version": 3
   },
   "file_extension": ".py",
   "mimetype": "text/x-python",
   "name": "python",
   "nbconvert_exporter": "python",
   "pygments_lexer": "ipython3",
   "version": "3.12.3"
  }
 },
 "nbformat": 4,
 "nbformat_minor": 5
}
